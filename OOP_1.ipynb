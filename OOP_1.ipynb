{
 "cells": [
  {
   "cell_type": "markdown",
   "metadata": {},
   "source": [
    "<h1>OOP in Python (Part 1)</h1>\n",
    "\n",
    "Object-Oriented Programming (OOP) in Python is a way of writing code that focuses on organizing data (attributes) and actions (methods/functions) together into objects.\n",
    "These objects are instances of classes, which act as blueprints defining how the objects should be structured and what they can do.\n",
    "\n",
    "\n",
    "---------------------------\n",
    "\n",
    "Python'da Nesne Yönelimli Programlama (OOP)\n",
    "\n",
    "Python'da Nesne Yönelimli Programlama (OOP) verileri (nitelikler) ve eylemleri (metod/fonksiyonlar) nesneler içinde bir araya getirmeye odaklanan bir kod yazma yöntemidir. \n",
    "Bu nesneler, sınıfların örnekleri olup, nesnelerin nasıl yapılandırılması gerektiğini ve ne yapabileceklerini tanımlayan şablonlar olarak işlev görür."
   ]
  },
  {
   "cell_type": "code",
   "execution_count": 12,
   "metadata": {},
   "outputs": [
    {
     "name": "stdout",
     "output_type": "stream",
     "text": [
      "Whiskers says: Meow Meow!\n",
      "Whiskers is 4 years old.\n"
     ]
    }
   ],
   "source": [
    "# Define a Class Called Cat\n",
    "class Cat:\n",
    "    # This is the constructor method that initializes the object with some default values\n",
    "    def __init__(self, name, age):\n",
    "        self.name = name  # Defines the attribute for the cat's name\n",
    "        self.age = age    # Defines the attribute for the cat's age\n",
    "        \n",
    "    # Method to make the cat meow\n",
    "    def meow(self):\n",
    "        print(f\"{self.name} says: Meow Meow!\")\n",
    "    \n",
    "    # Method to display the cat's age\n",
    "    def display_age(self):\n",
    "        print(f\"{self.name} is {self.age} years old.\")\n",
    "\n",
    "# Create an instance (object) of the Cat class\n",
    "Cat1 = Cat(\"Whiskers\", 4)\n",
    "# Use the methods of the Cat object\n",
    "Cat1.meow()          # The cat meows\n",
    "Cat1.display_age()   # Displays the cat's age\n"
   ]
  },
  {
   "cell_type": "markdown",
   "metadata": {},
   "source": [
    "We define a class Cat with two methods (init, meow) and two attributes (name, age).\n",
    "The init method is a special constructor method that is automatically called when a new object is created. It initializes the object's attributes with the provided values.\n",
    "We create an instance of the Cat class called cat1, passing the name 'Whiskers' and age 3 as arguments. Then, we use the meow method to make cat1 meow and the display_age method to show its age."
   ]
  },
  {
   "cell_type": "code",
   "execution_count": 13,
   "metadata": {},
   "outputs": [],
   "source": [
    "# Define a class called 'Car'\n",
    "class Car:\n",
    "    # This is the constructor method that initializes the object with some default values\n",
    "    def __init__(self, make, model, year):\n",
    "        self.make = make  # Attribute to store the car's make\n",
    "        self.model = model  # Attribute to store the car's model\n",
    "        self.year = year  # Attribute to store the car's manufacturing year\n",
    "        self.speed = 0  # Attribute to store the car's current speed\n",
    "        \n",
    "    # Method to start the car\n",
    "    def start(self):\n",
    "        print(\"Car started.\")\n",
    "    \n",
    "    # Method to accelerate the car\n",
    "    def accelerate(self, mph):\n",
    "        self.speed += mph  # Increasing the speed by the provided miles per hour (mph)\n",
    "        print(f\"Accelerating. Current speed: {self.speed} mph\")\n",
    "        \n",
    "    # Method to brake the car\n",
    "    def brake(self, mph):\n",
    "        self.speed -= mph  # Decreasing the speed by the provided miles per hour (mph)\n",
    "        print(f\"Braking. Current speed: {self.speed} mph\")\n",
    "    \n",
    "    # Method to display car information\n",
    "    def display_info(self):\n",
    "        print(f\"Make: {self.make}, Model: {self.model}, Year: {self.year}, Speed: {self.speed} mph\")\n",
    "\n",
    "# Create instances (objects) of the car class\n",
    "car1 = Car(\"Toyota\", \"Camry\", 2022)  # Creating an instance for a Toyota Camry manufactured in 2022\n",
    "car2 = Car(\"Tesla\", \"Model 3\", 2023)  # Creating an instance for a Tesla Model 3 manufactured in 2023\n"
   ]
  },
  {
   "cell_type": "code",
   "execution_count": 14,
   "metadata": {},
   "outputs": [
    {
     "name": "stdout",
     "output_type": "stream",
     "text": [
      "Car started.\n",
      "Accelerating. Current speed: 30 mph\n",
      "Accelerating. Current speed: 50 mph\n",
      "Braking. Current speed: 45 mph\n",
      "Car started.\n",
      "Accelerating. Current speed: 30 mph\n",
      "Accelerating. Current speed: 110 mph\n",
      "Braking. Current speed: 105 mph\n",
      "Make: Toyota, Model: Camry, Year: 2022, Speed: 45 mph\n",
      "Make: Tesla, Model: Model 3, Year: 2023, Speed: 105 mph\n"
     ]
    }
   ],
   "source": [
    "# Use the methods of the objects\n",
    "car1.start()  # Starting the car represented by car1\n",
    "car1.accelerate(30)  # Accelerating the car by 30 mph\n",
    "car1.accelerate(20)  # Accelerating the car by additional 20 mph\n",
    "car1.brake(5)  # Applying brakes to reduce the speed by 5 mph\n",
    "\n",
    "car2.start()  # Starting the car represented by car2\n",
    "car2.accelerate(30)  # Accelerating the car by 30 mph\n",
    "car2.accelerate(80)  # Accelerating the car by additional 80 mph\n",
    "car2.brake(5)  # Applying brakes to reduce the speed by 5 mph\n",
    "\n",
    "# Display information about the cars\n",
    "car1.display_info()  # Displaying information about car1\n",
    "car2.display_info()  # Displaying information about car2\n"
   ]
  },
  {
   "cell_type": "markdown",
   "metadata": {},
   "source": [
    "we define a class Car with four methods (init, start, accelerate, and brake) and an attribute speed. The init method is a special constructor method that is called when a new object is created. It initializes the object's attributes with the provided values.\n",
    "\n",
    "We create two instances of the Car class, car1 and car2, and then use the methods to perform actions like starting, accelerating, and braking the cars. The display_info method shows the details of each car, including the current speed.\n",
    "\n",
    "That's the essence of OOP in Python. Classes are used to create objects, and those objects can have attributes and methods that define their behavior and properties. This approach allows for code reusability, modularity, and a more organized structure."
   ]
  },
  {
   "cell_type": "markdown",
   "metadata": {},
   "source": [
    "<a href=\"https://www.linkedin.com/in/onur-gumus/\">Onur_Gumus</a>\n"
   ]
  }
 ],
 "metadata": {
  "kernelspec": {
   "display_name": ".venv",
   "language": "python",
   "name": "python3"
  },
  "language_info": {
   "codemirror_mode": {
    "name": "ipython",
    "version": 3
   },
   "file_extension": ".py",
   "mimetype": "text/x-python",
   "name": "python",
   "nbconvert_exporter": "python",
   "pygments_lexer": "ipython3",
   "version": "3.10.0"
  }
 },
 "nbformat": 4,
 "nbformat_minor": 2
}
