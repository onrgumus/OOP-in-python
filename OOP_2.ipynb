{
 "cells": [
  {
   "cell_type": "markdown",
   "metadata": {},
   "source": [
    "<h1>OOP in Python (Part 2)</h1>\n",
    "Inheritance\n",
    "\n",
    "Inheritance is a fundamental concept in object-oriented programming (OOP). It allows you to create a new class that inherits the properties and behaviors (methods) of an existing class, known as the parent or base class. The new class is called the child or derived class. This helps in promoting code reusability and organizing code in a hierarchical manner.\n",
    "\n"
   ]
  },
  {
   "cell_type": "markdown",
   "metadata": {},
   "source": [
    "<h3>Kalıtım</h3>\n",
    "\n",
    "Kalıtım, nesne yönelimli programlamada (OOP) temel bir kavramdır. Varolan bir sınıfın özelliklerini ve davranışlarını (metodları) devralarak yeni bir sınıf oluşturmanıza olanak tanır; bu varolan sınıfa ebeveyn veya temel sınıf denir.  Yeni sınıfa çocuk veya türetilmiş sınıf denir. Bu, kodun tekrar kullanılabilirliğini artırır ve kodu hiyerarşik bir şekilde düzenlemenize yardımcı olur."
   ]
  },
  {
   "cell_type": "code",
   "execution_count": 21,
   "metadata": {},
   "outputs": [
    {
     "name": "stdout",
     "output_type": "stream",
     "text": [
      "Buddy is a Golden Anatolian Shepherd Dog\n",
      "Whiskers is a Blue eyed Siamese\n",
      "Woof!\n",
      "Meow!\n"
     ]
    }
   ],
   "source": [
    "# Parent class (base class)\n",
    "class Animal:\n",
    "    def __init__(self, name, species):\n",
    "        self.name = name\n",
    "        self.species = species\n",
    "    \n",
    "    def make_sound(self):\n",
    "        pass  #\"Undefined sound\"  \n",
    "\n",
    "# Child class (derived class)\n",
    "class Dog(Animal):\n",
    "    def __init__(self, name, breed, color):\n",
    "        super().__init__(name, species=\"Dog\")\n",
    "        self.breed = breed\n",
    "        self.color = color\n",
    "    \n",
    "    def make_sound(self):\n",
    "        return \"Woof!\"  # Dogs make a 'Woof!' sound\n",
    "\n",
    "    def describe_dog(self):\n",
    "        return f\"{self.name} is a {self.color} {self.breed}\"\n",
    "\n",
    "# Child class (derived class)\n",
    "class Cat(Animal):\n",
    "    def __init__(self, name, breed, eye_color):\n",
    "        super().__init__(name, species=\"Cat\")\n",
    "        self.breed = breed\n",
    "        self.eye_color = eye_color\n",
    "    \n",
    "    def make_sound(self):\n",
    "        return \"Meow!\"  # Cats make a 'Meow!' sound\n",
    "\n",
    "    def describe_cat(self):\n",
    "        return f\"{self.name} is a {self.eye_color} eyed {self.breed}\"\n",
    "\n",
    "# Creating instances of the child classes and calling methods\n",
    "dog_instance = Dog(\"Buddy\", \"Anatolian Shepherd Dog\", \"Golden\")\n",
    "cat_instance = Cat(\"Whiskers\", \"Siamese\", \"Blue\")\n",
    "\n",
    "print(dog_instance.describe_dog())  # Output: Buddy is a Golden Anatolian Shepherd Dog\n",
    "print(cat_instance.describe_cat())  # Output: Whiskers is a Blue eyed Siamese\n",
    "print(dog_instance.make_sound())    # Output: Woof!\n",
    "print(cat_instance.make_sound())    # Output: Meow!\n"
   ]
  },
  {
   "cell_type": "code",
   "execution_count": 22,
   "metadata": {},
   "outputs": [
    {
     "name": "stdout",
     "output_type": "stream",
     "text": [
      "Buddy is a Golden Anatolian Shepherd Dog.\n",
      "Buddy says: Woof!\n",
      "Whiskers is a Blue eyed Siamese.\n",
      "Whiskers says: Meow!\n"
     ]
    }
   ],
   "source": [
    "# Accessing Properties and methods of the parent and child classes\n",
    "\n",
    "print(f\"{dog_instance.name} is a {dog_instance.color} {dog_instance.breed}.\")\n",
    "print(f\"{dog_instance.name} says: {dog_instance.make_sound()}\")\n",
    "\n",
    "###########################################################################################\n",
    "\n",
    "print(f\"{cat_instance.name} is a {cat_instance.eye_color} eyed {cat_instance.breed}.\")\n",
    "print(f\"{cat_instance.name} says: {cat_instance.make_sound()}\")\n"
   ]
  },
  {
   "cell_type": "markdown",
   "metadata": {},
   "source": [
    "In this example, we have a parent class Animal, which has a constructor (init) that initializes the name and species properties. It also has a make_sound method that is defined but does nothing (pass) since it's specific to each animal.\n",
    "\n",
    "Then, we have two child classes, Dog and Cat, which inherit from the Animal class. They have their own constructors that call the parent class's constructor using super(), and they also override the make_sound method to provide their unique sound.\n",
    "\n",
    "When we create instances of the child classes (dog_instance and cat_instance), they inherit the properties and methods of the parent class. We can access the properties and methods of both the parent and child classes through these instances."
   ]
  },
  {
   "cell_type": "markdown",
   "metadata": {},
   "source": [
    "<h1>Polymorphism</h1>\n",
    "\n",
    "Polymorphism is another important concept in object-oriented programming (OOP). It allows objects of different classes to be treated as objects of a common parent class. This enables us to write code that can work with different types of objects in a uniform way."
   ]
  },
  {
   "cell_type": "markdown",
   "metadata": {},
   "source": [
    "<h3>Polimorfizm </h3>\n",
    "\n",
    "\n",
    "Polimorfizm, nesne yönelimli programlamadaki (OOP) önemli kavramlardan biridir. Farklı sınıflara ait nesnelerin ortak bir ebeveyn sınıfının nesneleri gibi işlenmesine olanak tanır. Bu, farklı tipte nesnelerle birlikte çalışabilen, tutarlı bir şekilde çalışan kodlar yazmamızı sağlar.\n"
   ]
  },
  {
   "cell_type": "code",
   "execution_count": 23,
   "metadata": {},
   "outputs": [
    {
     "name": "stdout",
     "output_type": "stream",
     "text": [
      "Buddy says: Woof!\n",
      "Silla says: Meow!\n"
     ]
    }
   ],
   "source": [
    "# Parent Class\n",
    "class Animal:\n",
    "    def __init__(self, name):\n",
    "        self.name = name\n",
    "        \n",
    "    def _make_sound(self):\n",
    "        pass\n",
    "\n",
    "# Child Classes\n",
    "class Dog(Animal):\n",
    "    def _make_sound(self):\n",
    "        return \"Woof!\"\n",
    "\n",
    "class Cat(Animal):\n",
    "    def _make_sound(self):\n",
    "        return \"Meow!\"\n",
    "\n",
    "# Function that works with any Animal object\n",
    "def animal_sound(animal):\n",
    "    print(f\"{animal.name} says: {animal._make_sound()}\")\n",
    "\n",
    "# Creating instances of the child classes\n",
    "dog_instance = Dog(\"Buddy\")\n",
    "cat_instance = Cat(\"Silla\")\n",
    "\n",
    "# Calling the function with different types of objects\n",
    "animal_sound(dog_instance)\n",
    "animal_sound(cat_instance)\n"
   ]
  },
  {
   "cell_type": "markdown",
   "metadata": {},
   "source": [
    "In this example, we have a parent class Animal with a constructor (init) that initializes the name property and a make_sound method that is defined but does nothing (pass).\n",
    "\n",
    "We also have two child classes, Dog and Cat, which inherit from the Animal class. Each of these child classes overrides the make_sound method to provide their unique sound.\n",
    "\n",
    "The animal_sound function takes an Animal object as a parameter. However, since both Dog and Cat are subclasses of Animal, they can be passed as arguments to this function.\n",
    "\n",
    "When we call the animal_sound function with different objects (dog_instance and cat_instance), it demonstrates polymorphism. The function doesn't need to know the specific type of the object it receives; it simply calls the make_sound method on the object, and the correct sound is returned based on the object's actual type.\n",
    "\n",
    "This is polymorphism in action – the ability to treat objects of different classes in a uniform way, simplifying code and making it more flexible and adaptable."
   ]
  },
  {
   "cell_type": "markdown",
   "metadata": {},
   "source": [
    "<a href=\"https://www.linkedin.com/in/onur-gumus/\">Onur_Gumus</a>\n"
   ]
  }
 ],
 "metadata": {
  "kernelspec": {
   "display_name": ".venv",
   "language": "python",
   "name": "python3"
  },
  "language_info": {
   "codemirror_mode": {
    "name": "ipython",
    "version": 3
   },
   "file_extension": ".py",
   "mimetype": "text/x-python",
   "name": "python",
   "nbconvert_exporter": "python",
   "pygments_lexer": "ipython3",
   "version": "3.10.0"
  }
 },
 "nbformat": 4,
 "nbformat_minor": 2
}
