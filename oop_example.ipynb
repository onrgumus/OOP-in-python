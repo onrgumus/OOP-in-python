{
 "cells": [
  {
   "cell_type": "code",
   "execution_count": 1,
   "metadata": {},
   "outputs": [
    {
     "name": "stdout",
     "output_type": "stream",
     "text": [
      "Ad : Onur  Soyad: Gumus  Yas : 24\n"
     ]
    },
    {
     "data": {
      "text/plain": [
       "{'name': 'Onur', 'surname': 'Gumus', 'age': 24}"
      ]
     },
     "execution_count": 1,
     "metadata": {},
     "output_type": "execute_result"
    }
   ],
   "source": [
    "class calisan:\n",
    "    def __init__(self,name,surname,age):\n",
    "        self.name=name\n",
    "        self.surname=surname\n",
    "        self.age = age\n",
    "    def display_info(self):\n",
    "        print(f\"Ad : {self.name}  Soyad: {self.surname}  Yas : {self.age}\")\n",
    "        \n",
    "\n",
    "\n",
    "calisan1= calisan(\"Onur\",\"Gumus\",24)\n",
    "calisan1.display_info()\n",
    "calisan1.__dict__"
   ]
  },
  {
   "cell_type": "code",
   "execution_count": 34,
   "metadata": {},
   "outputs": [
    {
     "name": "stdout",
     "output_type": "stream",
     "text": [
      "ad : Onur  soyisim : Gumus  boy : 170 kilo : 90\n",
      "*********\n",
      "Calculated BMI: 31.14\n",
      "ad : Onur  soyisim : Gumus  boy : 170 kilo : 75\n",
      "*********\n",
      "Calculated BMI: 25.95\n"
     ]
    }
   ],
   "source": [
    "class İnsan:\n",
    "    def __init__(self, isim, soyisim, boy, kilo):\n",
    "        self.a = isim\n",
    "        self.b = soyisim\n",
    "        self.c = boy\n",
    "        self.d = kilo\n",
    "    \n",
    "    def display_info(self):\n",
    "        print(f\"ad : {self.a}  soyisim : {self.b}  boy : {self.c} kilo : {self.d}\")\n",
    "        print(\"*********\")\n",
    "    \n",
    "    def Bmı(self):\n",
    "        bmi = self.d / ((int(self.c) / 100) ** 2)\n",
    "        return bmi\n",
    "    \n",
    "    def bmı_display(self):\n",
    "        calculated_bmi = self.Bmı()\n",
    "        print(f\"Calculated BMI: {calculated_bmi:.2f}\")\n",
    "\n",
    "İlk_insan = İnsan(\"Onur\", \"Gumus\", \"170\", 90)\n",
    "İlk_insan.display_info()\n",
    "İlk_insan.bmı_display()\n",
    "Onur_Gumus = İnsan(\"Onur\",\"Gumus\",\"170\",75)\n",
    "Onur_Gumus.display_info()\n",
    "Onur_Gumus.bmı_display()"
   ]
  },
  {
   "cell_type": "code",
   "execution_count": 2,
   "metadata": {},
   "outputs": [
    {
     "name": "stdout",
     "output_type": "stream",
     "text": [
      "Ad : Onur  Soyad: Empty  Yas : 24\n",
      "Ad : Empty  Soyad: Empty  Yas : 24\n"
     ]
    }
   ],
   "source": [
    "class calisan:\n",
    "    def __init__(self,name='Empty',surname='Empty',age=0):\n",
    "        self.name=name\n",
    "        self.surname=surname\n",
    "        self.age = age\n",
    "    def display_info(self):\n",
    "        print(f\"Ad : {self.name}  Soyad: {self.surname}  Yas : {self.age}\")\n",
    "        \n",
    "\n",
    "\n",
    "calisan1= calisan(\"Onur\",age=24)\n",
    "calisan1.display_info()\n",
    "\n",
    "calisan2= calisan(age=24)\n",
    "calisan2.display_info()"
   ]
  },
  {
   "cell_type": "code",
   "execution_count": 3,
   "metadata": {},
   "outputs": [
    {
     "name": "stdout",
     "output_type": "stream",
     "text": [
      "Ad : Onur  Soyad: Empty  Yas : 24\n",
      "Ad : Empty  Soyad: Empty  Yas : 24\n"
     ]
    },
    {
     "data": {
      "text/plain": [
       "{'name': 'Onur', 'surname': 'Empty', 'age': 24}"
      ]
     },
     "execution_count": 3,
     "metadata": {},
     "output_type": "execute_result"
    }
   ],
   "source": [
    "class calisan:\n",
    "    def __init__(self,a='Empty',b='Empty',c=0):\n",
    "        self.name=a\n",
    "        self.surname=b\n",
    "        self.age = c\n",
    "    def display_info(self):\n",
    "        print(f\"Ad : {self.name}  Soyad: {self.surname}  Yas : {self.age}\")\n",
    "        \n",
    "calisan1= calisan(\"Onur\",c=24)\n",
    "calisan1.display_info()\n",
    "\n",
    "calisan2= calisan(c=24)\n",
    "calisan2.display_info()\n",
    "calisan2.__dict__\n",
    "calisan1.__dict__"
   ]
  },
  {
   "cell_type": "markdown",
   "metadata": {},
   "source": [
    "Yukarıda Görmüş olduğumuz tüm kodlarla işlemlerimiz aynı fakat fonksiyonları istediğimiz gibi şekillendirebileceğimizi bilmemiz işimizi kolaylaştırır."
   ]
  },
  {
   "cell_type": "code",
   "execution_count": 4,
   "metadata": {},
   "outputs": [
    {
     "data": {
      "text/plain": [
       "{'name': 'Onur', 'surname': 'Gumus', 'age': 24, 'zam_oranı': 1.2}"
      ]
     },
     "execution_count": 4,
     "metadata": {},
     "output_type": "execute_result"
    }
   ],
   "source": [
    "class calisan:\n",
    "    zam_oranı = 1.1\n",
    "    def __init__(self,name,surname,age):\n",
    "        self.name=name\n",
    "        self.surname=surname\n",
    "        self.age = age\n",
    "    def display_info(self):\n",
    "        print(f\"Ad : {self.name}  Soyad: {self.surname}  Yas : {self.age}\")\n",
    "        \n",
    "calisan1= calisan(\"Onur\",\"Gumus\",24)\n",
    "# calisan1.display_info()\n",
    "# calisan1.__dict__\n",
    "# calisan.__dict__\n",
    "calisan1.zam_oranı=1.2\n",
    "calisan1.__dict__\n"
   ]
  },
  {
   "cell_type": "code",
   "execution_count": 5,
   "metadata": {},
   "outputs": [
    {
     "name": "stdout",
     "output_type": "stream",
     "text": [
      "2\n"
     ]
    },
    {
     "data": {
      "text/plain": [
       "{'name': 'Onur', 'surname': 'Gumus', 'age': 24}"
      ]
     },
     "execution_count": 5,
     "metadata": {},
     "output_type": "execute_result"
    }
   ],
   "source": [
    "class Calisan:\n",
    "    personel_sayısı = 0\n",
    "    \n",
    "    def __init__(self, name, surname, age):\n",
    "        self.name = name\n",
    "        self.surname = surname\n",
    "        self.age = age\n",
    "        # Increment the employee count when a new instance is created\n",
    "        Calisan.personel_sayısı += 1\n",
    "\n",
    "# Example usage:\n",
    "emp1 = Calisan(\"John\", \"Doe\", 30)\n",
    "emp2 = Calisan(\"Alice\", \"Smith\", 25)\n",
    "\n",
    "print(Calisan.personel_sayısı)  # Output: 2\n",
    "\n",
    "        \n",
    "calisan1= calisan(\"Onur\",\"Gumus\",24)\n",
    "# calisan1.display_info()\n",
    "# calisan1.__dict__\n",
    "# calisan.__dict__\n",
    "#calisan1.zam_oranı=1.2\n",
    "calisan1.__dict__\n"
   ]
  },
  {
   "cell_type": "code",
   "execution_count": 6,
   "metadata": {},
   "outputs": [
    {
     "name": "stdout",
     "output_type": "stream",
     "text": [
      "Onur 25\n",
      "2\n",
      "Tugberk\n",
      "3\n",
      "Ad : Elif, Yaş : 34\n"
     ]
    },
    {
     "data": {
      "text/plain": [
       "'Ad : Elif Yaş : 34'"
      ]
     },
     "execution_count": 6,
     "metadata": {},
     "output_type": "execute_result"
    }
   ],
   "source": [
    "from datetime import date\n",
    "\n",
    "# kisi sınıfı tanımlanıyor\n",
    "class kisi:\n",
    "    # Sınıf değişkenleri tanımlanıyor\n",
    "    zam_oranı = 1.1\n",
    "    kisi_sayısı = 0\n",
    "    \n",
    "    # Constructor (Yapıcı Metod) - Sınıfın başlatılması için kullanılır\n",
    "    def __init__(self, isim, yas):\n",
    "        # Örnek (instance) değişkenleri atanıyor\n",
    "        self.isim = isim\n",
    "        self.yas = yas\n",
    "        # Kişi sayısı sınıf değişkeni artırılıyor\n",
    "        kisi.kisi_sayısı += 1\n",
    "    \n",
    "    # Örnek metodu (Instance Method) - Kişinin bilgilerini döndürür\n",
    "    def bilgilerini_söyle(self):\n",
    "        return f\"Ad : {self.isim} Yaş : {self.yas}\"\n",
    "    \n",
    "    # Sınıf metodu - Toplam kişi sayısını döndürür\n",
    "    @classmethod\n",
    "    def kisi_sayısını_söyle(cls):\n",
    "        return cls.kisi_sayısı\n",
    "    \n",
    "    # Sınıf metodu - Verilen stringden bir kişi nesnesi oluşturur\n",
    "    @classmethod\n",
    "    def string_ile_olustur(cls, metin):\n",
    "        isim, yas = metin.split(\"-\")\n",
    "        return cls(isim, yas)\n",
    "    \n",
    "    # Sınıf metodu - Doğum yılına göre bir kişi nesnesi oluşturur\n",
    "    @classmethod\n",
    "    def dogum_yılı_ile_olustur(cls, isim, dogum_yili):\n",
    "        return cls(isim, date.today().year - dogum_yili)\n",
    "\n",
    "# Kişi nesneleri oluşturuluyor\n",
    "kisi1 = kisi(\"Onur\", 25)\n",
    "kisi2 = kisi(\"Cagrı\", 29)\n",
    "\n",
    "# Kişi nesnelerinin bilgileri ekrana yazdırılıyor\n",
    "print(kisi1.isim, kisi1.yas)\n",
    "print(kisi.kisi_sayısını_söyle())\n",
    "\n",
    "# Yeni bir kişi nesnesi string ile oluşturuluyor\n",
    "kisi3 = kisi.string_ile_olustur(\"Tugberk-30\")\n",
    "print(kisi3.isim)\n",
    "print(kisi.kisi_sayısını_söyle())\n",
    "\n",
    "# Doğum yılına göre bir kişi nesnesi oluşturuluyor ve bilgileri ekrana yazdırılıyor\n",
    "kisi4 = kisi.dogum_yılı_ile_olustur(\"Elif\", 1990)\n",
    "print(f\"Ad : {kisi4.isim}, Yaş : {kisi4.yas}\")\n",
    "kisi4.bilgilerini_söyle()\n"
   ]
  },
  {
   "cell_type": "code",
   "execution_count": 7,
   "metadata": {},
   "outputs": [
    {
     "name": "stdout",
     "output_type": "stream",
     "text": [
      "{'isim': 'Onur', 'yas': 25}\n",
      "{'isim': 'Cagrı', 'yas': 29}\n",
      "{'isim': 'Tugberk', 'yas': 30}\n",
      "Elif\n",
      "35\n",
      "{'isim': 'Mehmet', 'yas': 40}\n",
      "{'isim': 'Zeynep', 'yas': 22}\n"
     ]
    }
   ],
   "source": [
    "from datetime import date\n",
    "\n",
    "class kisi:\n",
    "    zam_oranı = 1.1\n",
    "    kisi_sayısı = 0\n",
    "    \n",
    "    def __init__(self, isim, yas):\n",
    "        self.isim = isim\n",
    "        self.yas = yas\n",
    "        kisi.kisi_sayısı += 1\n",
    "    \n",
    "    def bilgilerini_söyle(self):\n",
    "        return f\"Ad : {self.isim} Yaş : {self.yas}\"\n",
    "    \n",
    "    @classmethod\n",
    "    def kisi_sayısını_söyle(cls):\n",
    "        return cls.kisi_sayısı\n",
    "    \n",
    "    @classmethod\n",
    "    def string_ile_olustur(cls, metin):\n",
    "        isim, yas = metin.split(\"-\")\n",
    "        return cls(isim, yas)\n",
    "    \n",
    "    @classmethod\n",
    "    def dogum_yılı_ile_olustur(cls, isim, dogum_yili):\n",
    "        return cls(isim, date.today().year - dogum_yili)\n",
    "\n",
    "# Kişi nesneleri oluşturuluyor\n",
    "kisi1 = kisi(\"Onur\", 25)\n",
    "kisi2 = kisi(\"Cagrı\", 29)\n",
    "kisi3 = kisi(\"Tugberk\", 30)\n",
    "kisi4 = kisi(\"Elif\", 27)\n",
    "kisi5 = kisi(\"Ayşe\", 35)\n",
    "kisi6 = kisi(\"Mehmet\", 40)\n",
    "kisi7 = kisi(\"Zeynep\", 22)\n",
    "\n",
    "# Kişi nesnelerinin farklı özellikleri kullanılarak gösteriliyor\n",
    "# __dict__ dışındaki özellikler için örnek olarak vars() ve getattr() kullanabiliriz\n",
    "\n",
    "# vars() fonksiyonu ile özellikler\n",
    "print(vars(kisi1))\n",
    "print(vars(kisi2))\n",
    "print(vars(kisi3))\n",
    "\n",
    "# getattr() fonksiyonu ile belirli bir özelliğe erişim\n",
    "print(getattr(kisi4, 'isim'))\n",
    "print(getattr(kisi5, 'yas'))\n",
    "\n",
    "# Varsayılan __dict__ özelliği\n",
    "print(kisi6.__dict__)\n",
    "print(kisi7.__dict__)\n"
   ]
  },
  {
   "cell_type": "code",
   "execution_count": 8,
   "metadata": {},
   "outputs": [
    {
     "name": "stdout",
     "output_type": "stream",
     "text": [
      "['__class__', '__delattr__', '__dict__', '__dir__', '__doc__', '__eq__', '__format__', '__ge__', '__getattribute__', '__gt__', '__hash__', '__init__', '__init_subclass__', '__le__', '__lt__', '__module__', '__ne__', '__new__', '__reduce__', '__reduce_ex__', '__repr__', '__setattr__', '__sizeof__', '__str__', '__subclasshook__', '__weakref__', 'marka', 'model']\n",
      "True\n",
      "False\n",
      "30000\n",
      "False\n",
      "Toyota Corolla\n"
     ]
    }
   ],
   "source": [
    "\n",
    "class Araba : # type: ignore\n",
    "    def __init__(self, marka, model):\n",
    "        self.marka = marka\n",
    "        self.model = model\n",
    "\n",
    "# Bir nesnenin içerdiği tüm özellikleri ve metotları listeler.\n",
    "araba1 = Araba(\"Toyota\", \"Corolla\")\n",
    "print(dir(araba1))  # Özellikleri ve metotları listeler\n",
    "\n",
    "# Bir nesnenin belirli bir özelliğe sahip olup olmadığını kontrol eder.\n",
    "print(hasattr(araba1, 'marka'))  # True\n",
    "print(hasattr(araba1, 'fiyat'))  # False\n",
    "\n",
    "# Bir nesnenin özelliğini oluşturur veya mevcut bir özelliği değiştirir.\n",
    "setattr(araba1, 'fiyat', 30000)  # Yeni bir özellik ekler\n",
    "print(araba1.fiyat)  # type: ignore # 30000\n",
    "\n",
    "# Bir nesnenin belirli bir özelliğini siler.\n",
    "delattr(araba1, 'model')  # Özelliği siler\n",
    "print(hasattr(araba1, 'model'))  # False\n",
    "\n",
    "# Bir sınıfın özelliğini özelleştirir ve özelliğe özel davranışlar ekler.\n",
    "class Araba:\n",
    "    def __init__(self, marka, model):\n",
    "        self.marka = marka\n",
    "        self.model = model\n",
    "    \n",
    "    @property\n",
    "    def tam_isim(self):\n",
    "        return f\"{self.marka} {self.model}\"\n",
    "\n",
    "araba1 = Araba(\"Toyota\", \"Corolla\")\n",
    "print(araba1.tam_isim)  # Toyota Corolla\n"
   ]
  },
  {
   "cell_type": "code",
   "execution_count": 9,
   "metadata": {},
   "outputs": [
    {
     "name": "stdout",
     "output_type": "stream",
     "text": [
      "25\n",
      "27\n"
     ]
    }
   ],
   "source": [
    "class Matematik:\n",
    "    # Statik metodun örnek bir metot olmadığını belirtmek için @staticmethod kullanıyoruz.\n",
    "    @staticmethod\n",
    "    def kare_al(sayi):\n",
    "        return sayi ** 2\n",
    "\n",
    "    @staticmethod\n",
    "    def kup_al(sayi):\n",
    "        return sayi ** 3\n",
    "\n",
    "# Statik metodu çağırma\n",
    "print(Matematik.kare_al(5))  # 25\n",
    "print(Matematik.kup_al(3))   # 27\n",
    "\n",
    "# Sınıfın bir örneğini oluşturup statik metodu çağırma\n",
    "mat = Matematik()\n",
    "# mat objesi üzerinden static metod çağıramayız, sadece sınıf adı üzerinden çağırabiliriz\n",
    "# print(mat.kare_al(4))   # Hata! Bu metod örnek metodu değil, sınıf metodu olarak tanımlanmıştır.\n"
   ]
  },
  {
   "cell_type": "code",
   "execution_count": 40,
   "metadata": {},
   "outputs": [
    {
     "name": "stdout",
     "output_type": "stream",
     "text": [
      "True\n",
      "False\n",
      "False\n",
      "False\n",
      "Ad : Tugberk Yaş : 24\n"
     ]
    }
   ],
   "source": [
    "from datetime import date\n",
    "\n",
    "class kisi:\n",
    "    zam_oranı = 1.1\n",
    "    kisi_sayısı = 0\n",
    "    \n",
    "    def __init__(self, isim, yas):\n",
    "        self.isim = isim\n",
    "        self.yas = yas\n",
    "        kisi.kisi_sayısı += 1\n",
    "    \n",
    "    def bilgilerini_söyle(self):\n",
    "        return f\"Ad : {self.isim} Yaş : {self.yas}\"\n",
    "    \n",
    "    @classmethod\n",
    "    def kisi_sayısını_söyle(cls):\n",
    "        return cls.kisi_sayısı\n",
    "    \n",
    "    @classmethod\n",
    "    def string_ile_olustur(cls, metin):\n",
    "        isim, yas = metin.split(\"-\")\n",
    "        return cls(isim, yas)\n",
    "    \n",
    "    @classmethod\n",
    "    def dogum_yılı_ile_olustur(cls, isim, dogum_yili):\n",
    "        return cls(isim, date.today().year - dogum_yili)\n",
    "    \n",
    "    # Statik metot: Yaşa göre emeklilik durumunu kontrol eder\n",
    "    @staticmethod\n",
    "    def emekli_mi(yas):\n",
    "        if yas >= 65:\n",
    "            return True\n",
    "        else:\n",
    "            return False\n",
    "\n",
    "# Kişi nesneleri oluşturuluyor\n",
    "kisi1 = kisi(\"Onur\", 75)\n",
    "kisi2 = kisi(\"Cagrı\", 29)\n",
    "kisi3 = kisi(\"Tugberk\", 70)\n",
    "kisi4 = kisi(\"Elif\", 27)\n",
    "kisi5 = kisi(\"Ayşe\", 35)\n",
    "kisi6 = kisi(\"Mehmet\", 40)\n",
    "kisi7 = kisi(\"Zeynep\", 22)\n",
    "\n",
    "# Örnek olarak statik metodu çağırma\n",
    "print(kisi1.emekli_mi(kisi1.yas))  # False\n",
    "print(kisi5.emekli_mi(kisi5.yas))  # False\n",
    "print(kisi6.emekli_mi(kisi6.yas))  # False\n",
    "print(kisi7.emekli_mi(kisi7.yas))  # False\n",
    "\n",
    "kisi_yeni = kisi3.dogum_yılı_ile_olustur(kisi3.isim, 2000)\n",
    "print(kisi_yeni.bilgilerini_söyle())  # Print information about the newly created object\n",
    "\n",
    "\n"
   ]
  },
  {
   "cell_type": "markdown",
   "metadata": {},
   "source": [
    "staticmethod, Python'da bir sınıf metodu tanımlarken kullanılan bir dekoratördür. Bu dekoratör, normalde sınıfın örneklerine veya sınıfın kendisine erişimi olmayan metotları tanımlamak için kullanılır. staticmethod kullanılarak tanımlanan metotlar, sınıfın içinde bulunurlar ancak sınıf örnekleri üzerinden çağrılamazlar.\n",
    "\n",
    "Bu metodlar sınıfın içindeki diğer metotlarla işbirliği yapabilirler, ancak örnekler üzerinde işlem yapamazlar. self veya cls gibi özel parametrelere sahip değillerdir. Yani, normalde bir örnek metodunda olduğu gibi örnek referansını almak için bir parametre almazlar.\n",
    "\n",
    "Bu örnek, my_static_method adında bir statik metodu MyClass içinde tanımlar. Bu metot, MyClass'ın bir örneği oluşturulmadan sınıf adı üzerinden çağrılabilir. Örneğin, MyClass.my_static_method(1, 2) şeklinde çağrılabilir.\n",
    "\n",
    "Statik metotlar genellikle sınıf içindeki diğer metodlarla ilişkilendirilen ancak örneklerin durumuna veya özelliklerine erişim gerektirmeyen genel işlevler için kullanılır. Örneğin, bir matematik işlemi veya yardımcı bir işlev gibi genel bir operasyon için kullanılabilirler."
   ]
  },
  {
   "cell_type": "code",
   "execution_count": 11,
   "metadata": {},
   "outputs": [],
   "source": [
    "class MyClass:\n",
    "    @staticmethod\n",
    "    def my_static_method(arg1, arg2):\n",
    "        # Burada işlemler yapılır\n",
    "        pass\n"
   ]
  },
  {
   "cell_type": "markdown",
   "metadata": {},
   "source": [
    "<h1> Kalıtım , inheritance</h1>"
   ]
  },
  {
   "cell_type": "code",
   "execution_count": 12,
   "metadata": {},
   "outputs": [
    {
     "name": "stdout",
     "output_type": "stream",
     "text": [
      "Ad: Onur Soyad: Gumus Maas: 3000 Email: Onur.Gumus@sirket.com\n",
      "Ad: Ayse Soyad: Kaya Maas: 3500 Email: Ayse.Kaya@sirket.com\n",
      "Ad: Mehmet Soyad: Yılmaz Maas: 4000 Email: Mehmet.Yılmaz@sirket.com\n",
      "Ad: Zeynep Soyad: Demir Maas: 3200 Email: Zeynep.Demir@sirket.com\n",
      "Ad: Osman Soyad: Gumus Maas: 5 Email: Osman.Gumus@sirket.com Dil: Python\n",
      "Ad: Ayşe Soyad: Yılmaz Maas: 3 Email: Ayşe.Yılmaz@sirket.com Dil: Java\n",
      "Ad: Mehmet Soyad: Kara Maas: 7 Email: Mehmet.Kara@sirket.com Dil: C++\n",
      "False\n",
      "True\n",
      "True\n",
      "False\n",
      "True\n",
      "False\n"
     ]
    }
   ],
   "source": [
    "# Çalışan sınıfını oluşturuyoruz.\n",
    "class Calisan:\n",
    "    zam_orani = 1.1  # Zam oranı sınıfın bir özelliği olarak tanımlanıyor.\n",
    "\n",
    "    # Yapıcı (constructor) metot: Calisan sınıfından yeni bir örnek oluşturulduğunda çalışacak olan kısım.\n",
    "    def __init__(self, isim, soyisim, maas):\n",
    "        self.isim = isim  # Çalışanın adı\n",
    "        self.soyisim = soyisim  # Çalışanın soyadı\n",
    "        self.maas = maas  # Çalışanın maaşı\n",
    "        self.email = isim + \".\" + soyisim + \"@sirket.com\"  # E-posta adresi oluşturuluyor.\n",
    "\n",
    "    # Çalışanın bilgilerini gösteren bir metot.\n",
    "    def bilgilerini_göster(self):\n",
    "        return \"Ad: {} Soyad: {} Maas: {} Email: {}\".format(self.isim, self.soyisim, self.maas, self.email)\n",
    "\n",
    "# Çalışan örnekleri oluşturma\n",
    "Calisan1 = Calisan(\"Onur\", \"Gumus\", 3000)\n",
    "Calisan2 = Calisan(\"Ayse\", \"Kaya\", 3500)\n",
    "Calisan3 = Calisan(\"Mehmet\", \"Yılmaz\", 4000)\n",
    "Calisan4 = Calisan(\"Zeynep\", \"Demir\", 3200)\n",
    "\n",
    "# Örneklerin bilgilerini gösterme\n",
    "print(Calisan1.bilgilerini_göster())  # Örneğin bilgilerini gösterme\n",
    "print(Calisan2.bilgilerini_göster())\n",
    "print(Calisan3.bilgilerini_göster())\n",
    "print(Calisan4.bilgilerini_göster())\n",
    "\n",
    "# Yazılımcı sınıfını Calisan sınıfından türetiyoruz.\n",
    "class Yazilimci(Calisan):\n",
    "    # Yapıcı metot: Yazilimci sınıfından yeni bir örnek oluşturulduğunda çalışacak olan kısım.\n",
    "    def __init__(self, isim, soyisim, maas, bildigi_dil):\n",
    "        super().__init__(isim, soyisim, maas)  # Calisan sınıfının yapıcı metodunu kullanıyoruz.\n",
    "        self.bildigi_dil = bildigi_dil  # Yazılımcının bildiği programlama dili\n",
    "    zam_orani = 1.2  # Yazılımcılar için ayrı bir zam oranı belirliyoruz.\n",
    "    # Yazılımcının bilgilerini gösteren bir metot. Calisan sınıfındaki metodu override ediyoruz.\n",
    "    def bilgilerini_göster(self):\n",
    "        return \"Ad: {} Soyad: {} Maas: {} Email: {} Dil: {}\".format(\n",
    "            self.isim, self.soyisim, self.maas, self.email, self.bildigi_dil\n",
    "        )\n",
    "\n",
    "    # Yazılımcının bildiği dili söyleyen bir metot.\n",
    "    def dilini_söyle(self):\n",
    "        return f\"Bildiğim Dil: {self.bildigi_dil}\"\n",
    "\n",
    "# Yazılımcı örnekleri oluşturma\n",
    "Yazilimci1 = Yazilimci(\"Osman\", \"Gumus\", 5, \"Python\")\n",
    "print(Yazilimci1.bilgilerini_göster())  # Yazılımcının bilgilerini gösterme\n",
    "\n",
    "# Diğer örneklerin oluşturulması ve bilgilerinin gösterilmesi\n",
    "Yazilimci2 = Yazilimci(\"Ayşe\", \"Yılmaz\", 3, \"Java\")\n",
    "print(Yazilimci2.bilgilerini_göster())\n",
    "\n",
    "Yazilimci3 = Yazilimci(\"Mehmet\", \"Kara\", 7, \"C++\")\n",
    "print(Yazilimci3.bilgilerini_göster())\n",
    "\n",
    "# Yönetici sınıfını tanımlıyoruz.\n",
    "class Yönetici(Calisan):\n",
    "    \n",
    "    def __init__(self, isim, soyisim, maas, calisanlar=None):\n",
    "        super().__init__(isim, soyisim, maas)\n",
    "        if calisanlar is None:\n",
    "            self.calisanlar = []\n",
    "        else:\n",
    "            self.calisanlar = calisanlar\n",
    "            \n",
    "    def calisan_ekle(self, calisan):\n",
    "        if calisan not in self.calisanlar:\n",
    "            self.calisanlar.append(calisan)\n",
    "            \n",
    "    def calisan_sil(self, calisan):\n",
    "        if calisan in self.calisanlar:\n",
    "            self.calisanlar.remove(calisan)\n",
    "    \n",
    "    def calisanlari_goster(self):\n",
    "        for calisan in self.calisanlar:\n",
    "            print(calisan.bilgilerini_göster())\n",
    "\n",
    "# Yönetici örneği oluşturma\n",
    "Yonetici1 = Yönetici(\"Ahmet\", \"Yılmaz\", 8000)\n",
    "\n",
    "# Çalışan örnekleri oluşturma\n",
    "Calisan1 = Calisan(\"Onur\", \"Gumus\", 3000)\n",
    "Calisan2 = Calisan(\"Ayse\", \"Kaya\", 3500)\n",
    "Calisan3 = Calisan(\"Mehmet\", \"Yılmaz\", 4000)\n",
    "\n",
    "\n",
    "print(isinstance(calisan2, Calisan))  \n",
    "print(isinstance(Yonetici1, Yönetici))  \n",
    "print(issubclass(Yönetici, Calisan))  \n",
    "print(issubclass(Calisan, Yönetici))  \n",
    "print(issubclass(Yazilimci,Calisan))\n",
    "print(isinstance(calisan2,Yazilimci))"
   ]
  },
  {
   "cell_type": "code",
   "execution_count": 13,
   "metadata": {},
   "outputs": [],
   "source": [
    "# Yöneticinin işlemleri\n",
    "Yonetici1.calisan_ekle(Calisan1)  # Yöneticiye çalışan ekleme\n",
    "Yonetici1.calisan_ekle(Calisan2)\n",
    "Yonetici1.calisan_ekle(Calisan3)\n",
    "Yonetici1.calisan_ekle(Yazilimci1)"
   ]
  },
  {
   "cell_type": "code",
   "execution_count": 14,
   "metadata": {},
   "outputs": [
    {
     "name": "stdout",
     "output_type": "stream",
     "text": [
      "Ad: Onur Soyad: Gumus Maas: 3000 Email: Onur.Gumus@sirket.com\n",
      "Ad: Ayse Soyad: Kaya Maas: 3500 Email: Ayse.Kaya@sirket.com\n",
      "Ad: Mehmet Soyad: Yılmaz Maas: 4000 Email: Mehmet.Yılmaz@sirket.com\n",
      "Ad: Osman Soyad: Gumus Maas: 5 Email: Osman.Gumus@sirket.com Dil: Python\n"
     ]
    }
   ],
   "source": [
    "Yonetici1.calisanlari_goster()  # Yöneticinin yönettiği çalışanların bilgilerini gösterme\n"
   ]
  },
  {
   "cell_type": "code",
   "execution_count": 15,
   "metadata": {},
   "outputs": [],
   "source": [
    "Yonetici1.calisan_sil(Calisan2)  # Yöneticiden çalışan silme\n"
   ]
  },
  {
   "cell_type": "code",
   "execution_count": 16,
   "metadata": {},
   "outputs": [
    {
     "name": "stdout",
     "output_type": "stream",
     "text": [
      "Ad: Onur Soyad: Gumus Maas: 3000 Email: Onur.Gumus@sirket.com\n",
      "Ad: Mehmet Soyad: Yılmaz Maas: 4000 Email: Mehmet.Yılmaz@sirket.com\n",
      "Ad: Osman Soyad: Gumus Maas: 5 Email: Osman.Gumus@sirket.com Dil: Python\n"
     ]
    }
   ],
   "source": [
    "Yonetici1.calisanlari_goster()  # Yöneticinin güncel çalışanlarını gösterme\n"
   ]
  },
  {
   "cell_type": "code",
   "execution_count": 17,
   "metadata": {},
   "outputs": [
    {
     "name": "stdout",
     "output_type": "stream",
     "text": [
      "True\n"
     ]
    }
   ],
   "source": [
    "print(isinstance(Yonetici1,Yönetici))"
   ]
  },
  {
   "cell_type": "code",
   "execution_count": null,
   "metadata": {},
   "outputs": [],
   "source": []
  },
  {
   "cell_type": "code",
   "execution_count": 18,
   "metadata": {},
   "outputs": [
    {
     "name": "stdout",
     "output_type": "stream",
     "text": [
      "True\n",
      "True\n",
      "True\n",
      "True\n",
      "True\n",
      "True\n",
      "False\n"
     ]
    }
   ],
   "source": [
    "class Calisan:\n",
    "    pass\n",
    "\n",
    "class Yonetici(Calisan):\n",
    "    pass\n",
    "\n",
    "class Mudur(Yonetici):\n",
    "    pass\n",
    "\n",
    "calisan = Calisan()\n",
    "yonetici = Yonetici()\n",
    "mudur = Mudur()\n",
    "\n",
    "# isinstance() kullanımı\n",
    "print(isinstance(calisan, Calisan))  # True - Bir nesne, belirtilen sınıfın örneği mi?\n",
    "print(isinstance(yonetici, Yonetici))  # True - Bir nesne, belirtilen sınıfın örneği mi?\n",
    "print(isinstance(mudur, Mudur))  # True - Bir nesne, belirtilen sınıfın örneği mi?\n",
    "print(isinstance(yonetici, Calisan))  # True - Bir sınıf, diğer bir sınıfın alt sınıfı mı?\n",
    "\n",
    "# issubclass() kullanımı\n",
    "print(issubclass(Yonetici, Calisan))  # True - Bir sınıf, diğer bir sınıfın alt sınıfı mı?\n",
    "print(issubclass(Mudur, Yonetici))  # True - Bir sınıf, diğer bir sınıfın alt sınıfı mı?\n",
    "print(issubclass(Calisan, Yonetici))  # False - Bir sınıf, diğer bir sınıfın alt sınıfı mı?\n"
   ]
  },
  {
   "cell_type": "code",
   "execution_count": 19,
   "metadata": {},
   "outputs": [],
   "source": [
    "#*args ve **kwargs çalışmaları\n",
    "\n",
    "def carp(*args):\n",
    "    carpim = 1\n",
    "    for arg in args:\n",
    "        carpim *= arg\n",
    "    return carpim\n",
    "\n"
   ]
  },
  {
   "cell_type": "code",
   "execution_count": 20,
   "metadata": {},
   "outputs": [
    {
     "name": "stdout",
     "output_type": "stream",
     "text": [
      "2.0\n"
     ]
    }
   ],
   "source": [
    "def ortalama(*params):\n",
    "    return sum(params) / len(params)\n",
    "\n",
    "print(ortalama(1,2,3))"
   ]
  },
  {
   "cell_type": "code",
   "execution_count": 21,
   "metadata": {},
   "outputs": [
    {
     "name": "stdout",
     "output_type": "stream",
     "text": [
      "30\n"
     ]
    }
   ],
   "source": [
    "def carp(*args):\n",
    "    carpim =1\n",
    "    for arg in args:\n",
    "        carpim *= arg\n",
    "    return carpim\n",
    "\n",
    "print(carp(1,2,3,5))"
   ]
  },
  {
   "cell_type": "code",
   "execution_count": 22,
   "metadata": {},
   "outputs": [
    {
     "name": "stdout",
     "output_type": "stream",
     "text": [
      "selam 1 2 3 4 True c \n"
     ]
    }
   ],
   "source": [
    "def selamla(mesaj, *args):\n",
    "    sonuc = str(mesaj)  # İlk parametre olan mesajı stringe çeviriyoruz\n",
    "    sonuc += \" \"\n",
    "    for arg in args:\n",
    "        sonuc += str(arg)  # Diğer argümanları da stringe çevirip birleştiriyoruz\n",
    "        sonuc += \" \"\n",
    "    return sonuc\n",
    "\n",
    "print(selamla(\"selam\", 1, 2, 3, 4, True, \"c\"))\n"
   ]
  },
  {
   "cell_type": "code",
   "execution_count": 23,
   "metadata": {},
   "outputs": [
    {
     "name": "stdout",
     "output_type": "stream",
     "text": [
      "Doldurulamalıdır\n",
      "*********\n",
      "*********\n",
      "İsim Onur\n",
      "Soyisim Gumus\n",
      "None\n"
     ]
    }
   ],
   "source": [
    "def fonk2(zorunlu,*args,**kwargs):\n",
    "    print(zorunlu)\n",
    "    print(\"*********\")\n",
    "    for arg in args:\n",
    "        print(arg)\n",
    "    print(\"*********\")\n",
    "    for k, v in kwargs.items():\n",
    "        print(k,v)\n",
    "        \n",
    "print(fonk2(\"Doldurulamalıdır\",İsim = \"Onur\" , Soyisim = \"Gumus\"))"
   ]
  },
  {
   "cell_type": "code",
   "execution_count": 24,
   "metadata": {},
   "outputs": [
    {
     "name": "stdout",
     "output_type": "stream",
     "text": [
      "{'isim': 'ali', 'surname': 'gumus'}\n",
      "None\n"
     ]
    }
   ],
   "source": [
    "def fonk(**kwargs):\n",
    "    print(kwargs)\n",
    "\n",
    "print(fonk(isim = \"ali\",surname= \"gumus\"))"
   ]
  }
 ],
 "metadata": {
  "kernelspec": {
   "display_name": ".venv",
   "language": "python",
   "name": "python3"
  },
  "language_info": {
   "codemirror_mode": {
    "name": "ipython",
    "version": 3
   },
   "file_extension": ".py",
   "mimetype": "text/x-python",
   "name": "python",
   "nbconvert_exporter": "python",
   "pygments_lexer": "ipython3",
   "version": "3.10.0"
  }
 },
 "nbformat": 4,
 "nbformat_minor": 2
}
