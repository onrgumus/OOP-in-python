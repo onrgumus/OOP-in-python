{
 "cells": [
  {
   "cell_type": "markdown",
   "metadata": {},
   "source": [
    "<h1>OOP in Python (Part 3)</h1>"
   ]
  },
  {
   "cell_type": "markdown",
   "metadata": {},
   "source": [
    "<h2>Abstraction</h2>\n",
    "\n",
    "Abstraction is a concept in object-oriented programming that focuses on hiding the implementation details of a class from the user. It allows you to define the essential features and behaviors of an object while hiding the unnecessary complexity. Abstraction helps in simplifying code and promoting modularity.\n",
    "\n",
    "-------\n",
    "\n",
    "\n",
    "Soyutlama, nesne yönelimli programlamadaki bir kavramdır ve bir sınıfın uygulama detaylarını kullanıcıdan gizleme üzerine odaklanır. Nesnenin temel özelliklerini ve davranışlarını tanımlamanıza olanak tanırken gereksiz karmaşıklığı gizler. Soyutlama, kodu basitleştirmeye ve modülerliği desteklemeye yardımcı olur.\n"
   ]
  },
  {
   "cell_type": "code",
   "execution_count": 27,
   "metadata": {},
   "outputs": [
    {
     "name": "stdout",
     "output_type": "stream",
     "text": [
      "Rectangle Details:\n",
      "Area: 20\n",
      "Perimeter: 18\n",
      "\n",
      "Circle Details:\n",
      "Area: 50.24\n",
      "Perimeter: 25.12\n"
     ]
    }
   ],
   "source": [
    "# Abstract Base Class (ABC)\n",
    "from abc import ABC, abstractmethod\n",
    "\n",
    "class Shape(ABC):\n",
    "    @abstractmethod\n",
    "    def area(self):\n",
    "        pass\n",
    "\n",
    "    @abstractmethod\n",
    "    def perimeter(self):\n",
    "        pass\n",
    "\n",
    "# Concrete class that implements the Shape abstract class\n",
    "# Shape soyut sınıfını uygulayan somut sınıf (Concrete class)\n",
    "class Rectangle(Shape):\n",
    "    def __init__(self, length, width):\n",
    "        self.length = length\n",
    "        self.width = width\n",
    "    \n",
    "    def area(self):\n",
    "        return self.length * self.width\n",
    "    \n",
    "    def perimeter(self):\n",
    "        return 2 * (self.length + self.width)\n",
    "\n",
    "# Concrete class that implements the Shape abstract class\n",
    "# Shape soyut sınıfını uygulayan somut sınıf (Concrete class)\n",
    "class Circle(Shape):\n",
    "    def __init__(self, radius):\n",
    "        self.radius = radius\n",
    "    \n",
    "    def area(self):\n",
    "        return 3.14 * self.radius * self.radius\n",
    "    \n",
    "    def perimeter(self):\n",
    "        return 2 * 3.14 * self.radius\n",
    "\n",
    "# Function that works with any Shape object\n",
    "# Herhangi bir Shape nesnesiyle çalışan bir fonksiyon\n",
    "def print_shape_details(shape):\n",
    "    print(f\"Area: {shape.area()}\")\n",
    "    print(f\"Perimeter: {shape.perimeter()}\")\n",
    "\n",
    "# Creating instances of the concrete classes\n",
    "# Somut sınıfların örnekleri oluşturuluyor\n",
    "rectangle = Rectangle(5, 4)\n",
    "circle = Circle(4)\n",
    "\n",
    "# Calling the function with different types of objects\n",
    "# Farklı tiplerde nesnelerle fonksiyonun çağrılması\n",
    "print(\"Rectangle Details:\")\n",
    "print_shape_details(rectangle)\n",
    "print(\"\\nCircle Details:\")\n",
    "print_shape_details(circle)\n"
   ]
  },
  {
   "cell_type": "markdown",
   "metadata": {},
   "source": [
    "In this example, we have an abstract base class Shape that defines two abstract methods area and perimeter. Abstract methods are declared using the abstractmethod decorator, and they don't have any implementation in the abstract class.\n",
    "\n",
    "We also have two concrete classes, Rectangle and Circle, which inherit from the Shape abstract class. These classes implement the area and perimeter methods with their own specific calculations for calculating the area and perimeter.\n",
    "\n",
    "The print_shape_details function takes a Shape object as a parameter and calls the area and perimeter methods on it. Since Shape is an abstract class, we cannot create instances of it directly. However, we can use its concrete subclasses (Rectangle and Circle) to pass objects of those classes to the function.\n",
    "\n",
    "This is abstraction in action – the implementation details of the Shape class are hidden from the user, and they can work with Shape objects without needing to know the specific implementations of area and perimeter for each subclass. Abstraction allows us to focus on the essential features of objects and helps in building more maintainable and scalable code.\n"
   ]
  },
  {
   "cell_type": "markdown",
   "metadata": {},
   "source": [
    "\n",
    "Bu örnekte, soyut bir temel sınıf olan Shape'in alan (area) ve çevre (perimeter) adında iki soyut metodunu tanımladığı bir durum var. Soyut metodlar, abstractmethod dekoratörü kullanılarak bildirilir ve soyut sınıfta herhangi bir uygulamaya sahip değildir.\n",
    "\n",
    "Ayrıca, Shape soyut sınıfından miras alan Rectangle ve Circle adında iki somut sınıfımız var. Bu sınıflar, alan ve çevre metodlarını kendi özel hesaplamalarıyla uygularlar.\n",
    "\n",
    "print_shape_details fonksiyonu, bir Shape nesnesini parametre olarak alır ve onun üzerinde alan ve çevre metodlarını çağırır. Shape soyut bir sınıf olduğundan, doğrudan onun örneklerini oluşturamayız. Ancak, bu soyut sınıfın somut alt sınıflarını (Rectangle ve Circle) kullanarak bu sınıfların nesnelerini fonksiyona iletebiliriz.\n",
    "\n",
    "Bu, soyutlama örneğidir - Shape sınıfının uygulama detayları kullanıcıdan gizlenir ve kullanıcılar, her alt sınıf için alan ve çevre özel uygulamalarını bilmeye ihtiyaç duymadan Shape nesneleriyle çalışabilirler. Soyutlama, nesnelerin temel özelliklerine odaklanmamızı sağlar ve daha bakımı kolay ve ölçeklenebilir kodlar oluşturmaya yardımcı olur."
   ]
  },
  {
   "cell_type": "markdown",
   "metadata": {},
   "source": [
    "<h2> Encapsulation</h2>\n",
    "\n",
    "Encapsulation is a fundamental concept in object-oriented programming that involves bundling the data (attributes) and methods that operate on that data within a single unit, known as a class.\n",
    " This helps in protecting the data from direct access and modification by external code, ensuring that data integrity and consistency are maintained. Access to the data is controlled through methods, known as getters and setters, which provide an interface to interact with the class's attributes."
   ]
  },
  {
   "cell_type": "markdown",
   "metadata": {},
   "source": [
    "<a href=\"https://www.linkedin.com/in/onur-gumus/\">Onur_Gumus</a>\n"
   ]
  }
 ],
 "metadata": {
  "kernelspec": {
   "display_name": ".venv",
   "language": "python",
   "name": "python3"
  },
  "language_info": {
   "codemirror_mode": {
    "name": "ipython",
    "version": 3
   },
   "file_extension": ".py",
   "mimetype": "text/x-python",
   "name": "python",
   "nbconvert_exporter": "python",
   "pygments_lexer": "ipython3",
   "version": "3.10.0"
  }
 },
 "nbformat": 4,
 "nbformat_minor": 2
}
